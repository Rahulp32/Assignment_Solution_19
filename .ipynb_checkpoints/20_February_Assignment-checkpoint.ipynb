{
 "cells": [
  {
   "cell_type": "markdown",
   "id": "0e537af9-90f8-479a-a207-47c75cd5ca98",
   "metadata": {},
   "source": [
    "# 20_February_19th_Assignment"
   ]
  },
  {
   "cell_type": "code",
   "execution_count": null,
   "id": "469cc24b-58f9-4995-82d6-cec6ae2e69b2",
   "metadata": {},
   "outputs": [],
   "source": []
  },
  {
   "cell_type": "markdown",
   "id": "298a0103-8a12-4064-a006-d8736e968144",
   "metadata": {},
   "source": [
    "## Q1. Explain GET and POST methods."
   ]
  },
  {
   "cell_type": "markdown",
   "id": "f4450f21-6a4e-4292-a85c-b3188ee96085",
   "metadata": {},
   "source": [
    "In web development, **GET** and **POST** are the most commonly used HTTP methods to send requests between a client (e.g., browser) and a server.\n",
    "\n",
    "---\n",
    "\n",
    "### **GET Method**\n",
    "1. **Purpose**: Used to retrieve data from the server without making any changes to the server's state.\n",
    "2. **Characteristics**:\n",
    "   - **Data Transmission**: Data is sent as part of the URL in the query string (e.g., `/search?query=example`).\n",
    "   - **Visibility**: Data is visible in the URL and can be bookmarked or cached.\n",
    "   - **Idempotent**: Multiple identical GET requests should produce the same result.\n",
    "   - **Size Limit**: Limited to the URL length, which depends on the browser and server.\n",
    "3. **Use Case**: When you want to retrieve information, such as loading a webpage or fetching search results.\n",
    "\n",
    "**Example:**"
   ]
  },
  {
   "cell_type": "code",
   "execution_count": null,
   "id": "1919f108-ac07-4793-bbdc-c7b2de574585",
   "metadata": {},
   "outputs": [],
   "source": [
    "from flask import Flask, request\n",
    "\n",
    "app = Flask(__name__)\n",
    "\n",
    "@app.route('/get_example', methods=['GET'])\n",
    "def get_example():\n",
    "    # Get data from the URL query parameter 'param'\n",
    "    param = request.args.get('param', 'No parameter provided')\n",
    "    return f\"GET Request: You sent: {param}\"\n",
    "\n",
    "if __name__ == \"__main__\":\n",
    "    app.run(debug=True)\n",
    "\n",
    "### TO Check URL: http://127.0.0.1:5000/get_example?param=hello"
   ]
  },
  {
   "cell_type": "markdown",
   "id": "46b97c6b-db80-4376-8ca2-51413b9272fd",
   "metadata": {},
   "source": [
    "### **POST Method**\n",
    "1. **Purpose**: Used to send data to the server to create or update resources.\n",
    "2. **Characteristics**:\n",
    "   - **Data Transmission**: Data is sent in the request body, not the URL.\n",
    "   - **Visibility**: Data is not visible in the URL and cannot be bookmarked or cached.\n",
    "   - **Non-idempotent**: Sending the same POST request multiple times can create multiple resources or have different effects.\n",
    "   - **Size Limit**: Generally larger than GET, as it depends on server configurations.\n",
    "3. **Use Case**: When you want to submit sensitive or large amounts of data, such as login credentials or form data.\n",
    "\n",
    "**Example:**"
   ]
  },
  {
   "cell_type": "code",
   "execution_count": null,
   "id": "d3ec4f4e-3e73-4e88-8ad3-bf47f3611172",
   "metadata": {},
   "outputs": [],
   "source": [
    "from flask import Flask, request\n",
    "\n",
    "app = Flask(__name__)\n",
    "\n",
    "@app.route('/post_example', methods=['POST'])\n",
    "def post_example():\n",
    "    # Get data from the request body (form data)\n",
    "    data = request.form.get('data', 'No data provided')\n",
    "    return f\"POST Request: You sent: {data}\"\n",
    "\n",
    "if __name__ == \"__main__\":\n",
    "    app.run(debug=True)\n",
    "\n",
    "\n",
    "### To Check URL: http://127.0.0.1:5000/post_example"
   ]
  },
  {
   "cell_type": "markdown",
   "id": "56a2db8a-8fcc-4bf6-9f00-00cd2f9df924",
   "metadata": {
    "jp-MarkdownHeadingCollapsed": true
   },
   "source": [
    "### **Comparison**\n",
    "\n",
    "| Feature           | **GET**                              | **POST**                             |\n",
    "|--------------------|---------------------------------------|---------------------------------------|\n",
    "| **Purpose**        | Retrieve data                        | Submit data                          |\n",
    "| **Data Location**  | URL (query string)                   | Request body                         |\n",
    "| **Data Size**      | Limited                              | Larger than GET                      |\n",
    "| **Security**       | Less secure (data visible in URL)    | More secure (data not in URL)        |\n",
    "| **Caching**        | Can be cached                        | Not cached                           |\n",
    "| **Use Case**       | Fetch data                           | Send sensitive or large data         |\n",
    "\n"
   ]
  },
  {
   "cell_type": "markdown",
   "id": "f79a6707-bef6-46ca-8925-af0ddb7bb913",
   "metadata": {},
   "source": [
    "### Example with Flask"
   ]
  },
  {
   "cell_type": "code",
   "execution_count": null,
   "id": "285199b2-527f-43ba-b8fa-b4760a8f3044",
   "metadata": {},
   "outputs": [],
   "source": [
    "from flask import Flask, request\n",
    "\n",
    "app = Flask(__name__)\n",
    "\n",
    "@app.route('/example', methods=['GET', 'POST'])\n",
    "def example():\n",
    "    if request.method == 'GET':\n",
    "        data = request.args.get('data', 'No data sent')\n",
    "        return f\"GET: You sent {data}\"\n",
    "    elif request.method == 'POST':\n",
    "        data = request.form.get('data', 'No data sent')\n",
    "        return f\"POST: You sent {data}\"\n",
    "\n",
    "if __name__ == \"__main__\":\n",
    "    app.run(debug=True)\n",
    "\n",
    "\n",
    "### Url to Check : http://127.0.0.1:5000/example?data=hello"
   ]
  },
  {
   "cell_type": "code",
   "execution_count": null,
   "id": "bdcddbff-4476-4adb-8da2-4e65c4be1979",
   "metadata": {},
   "outputs": [],
   "source": []
  },
  {
   "cell_type": "markdown",
   "id": "2a9133ea-c911-4f4c-bd2c-c5e9801cb8e2",
   "metadata": {},
   "source": [
    "## Q2. Why is request used in Flask?"
   ]
  },
  {
   "cell_type": "markdown",
   "id": "add82162-e2bf-40b9-a7ce-13fe62e8057d",
   "metadata": {},
   "source": [
    "\n",
    "### The request object in Flask is essential for handling incoming request data from clients. It allows you to access various types of data sent by the client to the server. Here are some key uses of the request object:\n",
    "\n",
    "    Form Data: Retrieve data submitted via HTML forms using request.form.\n",
    "\n",
    "    Query Parameters: Access data sent in the URL query string with request.args.\n",
    "\n",
    "    JSON Data: Get JSON data sent in the request body using request.get_json().\n",
    "\n",
    "    File Uploads: Handle file uploads with request.files.\n",
    "\n",
    "    Headers: Access HTTP headers with request.headers.\n",
    "\n",
    "#### The request object is crucial for building web applications, as it provides a straightforward way to interact with client-sent data."
   ]
  },
  {
   "cell_type": "code",
   "execution_count": null,
   "id": "c817c64b-8a7a-477f-94f6-01bb6203486a",
   "metadata": {},
   "outputs": [],
   "source": []
  },
  {
   "cell_type": "markdown",
   "id": "316d37f9-e5eb-4bbd-873c-8b011e3dd769",
   "metadata": {},
   "source": [
    "## Q3. Why is redirect() used in Flask?"
   ]
  },
  {
   "cell_type": "markdown",
   "id": "de0f4509-c9ad-4582-8932-d489168171e9",
   "metadata": {},
   "source": [
    "#### The redirect() function in Flask is used to redirect the user to a different URL. It's particularly useful for guiding users to a different route, such as after a form submission or when they try to access a page that requires them to log in first. Here are a few common uses of redirect():\n",
    "\n",
    "    Post-Submission Redirect: After a user submits a form, you can redirect them to a \"thank you\" page or back to the homepage.\n",
    "\n",
    "    Authentication: If a user tries to access a protected route without being logged in, you can redirect them to a login page.\n",
    "\n",
    "    URL Changes: If a page's URL changes, you can use redirect() to ensure users are sent to the new URL without encountering a 404 error.\n",
    "\n",
    "##### Here's a simple example:"
   ]
  },
  {
   "cell_type": "code",
   "execution_count": null,
   "id": "f411813b-1008-40ba-9d5f-c20ea31a0ad9",
   "metadata": {},
   "outputs": [],
   "source": [
    "from flask import Flask, redirect, url_for\n",
    "\n",
    "app = Flask(__name__)\n",
    "\n",
    "@app.route('/')\n",
    "def index():\n",
    "    return 'Welcome to the homepage!'\n",
    "\n",
    "@app.route('/login')\n",
    "def login():\n",
    "    # Logic for logging in the user\n",
    "    return 'Please log in!'\n",
    "\n",
    "@app.route('/secret')\n",
    "def secret():\n",
    "    logged_in = False  # Example condition\n",
    "    if not logged_in:\n",
    "        return redirect(url_for('login'))\n",
    "    return 'This is a secret page!'\n",
    "\n",
    "if __name__ == '__main__':\n",
    "    app.run(debug=True)\n"
   ]
  },
  {
   "cell_type": "markdown",
   "id": "dd06ce03-8751-4bad-85ff-f7da8b27ce22",
   "metadata": {},
   "source": [
    "#### In this example, if a user tries to access the /secret route without being logged in, they will be redirected to the /login route."
   ]
  },
  {
   "cell_type": "code",
   "execution_count": null,
   "id": "e067e5fd-eb70-4f20-ba5f-ebba8f831289",
   "metadata": {},
   "outputs": [],
   "source": []
  },
  {
   "cell_type": "markdown",
   "id": "f812231f-26d3-4609-b967-76c98727e2ce",
   "metadata": {},
   "source": [
    "## Q4. What are templates in Flask? Why is the render_template() function used?"
   ]
  },
  {
   "cell_type": "markdown",
   "id": "45db0e6e-5b21-45e5-ac31-3adb5209963c",
   "metadata": {},
   "source": [
    "### In Flask, templates are files that contain HTML code with special syntax to dynamically insert Python data. This allows you to separate the presentation logic (HTML) from the application logic (Python code), making your code more organized, maintainable, and reusable.   \n",
    "\n",
    "### The render_template() function is a core part of Flask that facilitates the use of templates. Here's why it's crucial:   \n",
    "\n",
    "### Dynamic Content:\n",
    "\n",
    "    *. render_template() allows you to pass data from your Python code (like variables, lists, dictionaries) to the HTML template.\n",
    "    *. This data can then be used to dynamically generate HTML content, such as:\n",
    "    *. Displaying user-specific information.\n",
    "    *. Creating lists of items.\n",
    "    *. Showing different content based on conditions.\n",
    "\n",
    "### Template Rendering:\n",
    "\n",
    "    *. The function takes the template filename as an argument and any data you want to pass to it.   \n",
    "    *. It then renders the template, replacing the special syntax in the template with the actual data.   \n",
    "    *. Finally, it returns the rendered HTML string, which can then be sent to the client (usually in a web browser).   \n",
    "#### Example: app.py file"
   ]
  },
  {
   "cell_type": "code",
   "execution_count": null,
   "id": "04882007-76e4-457a-bc6c-463660358f29",
   "metadata": {},
   "outputs": [],
   "source": [
    "from flask import Flask, render_template\n",
    "\n",
    "app = Flask(__name__)\n",
    "\n",
    "@app.route('/')\n",
    "def index():\n",
    "    name = \"John Doe\"\n",
    "    hobbies = [\"Reading\", \"Hiking\", \"Coding\"]\n",
    "    return render_template('index.html', name=name, hobbies=hobbies)\n",
    "\n",
    "if __name__ == '__main__':\n",
    "    app.run(debug=True)"
   ]
  },
  {
   "cell_type": "markdown",
   "id": "fc136651-ce53-4452-a0d1-5f20463ea25f",
   "metadata": {},
   "source": [
    "#### index.html file"
   ]
  },
  {
   "cell_type": "code",
   "execution_count": null,
   "id": "f5b333e4-bf9b-4462-b3d5-c5a73aa112d0",
   "metadata": {},
   "outputs": [],
   "source": [
    "<!DOCTYPE html>\n",
    "<html>\n",
    "<head>\n",
    "    <title>My Website</title>\n",
    "</head>\n",
    "<body>\n",
    "    <h1>Hello, {{ name }}!</h1>\n",
    "    <p>Your hobbies:</p>\n",
    "    <ul>\n",
    "        {% for hobby in hobbies %}\n",
    "            <li>{{ hobby }}</li>\n",
    "        {% endfor %}\n",
    "    </ul>\n",
    "</body>\n",
    "</html>"
   ]
  },
  {
   "cell_type": "markdown",
   "id": "04b88d91-1178-4bb9-9eb9-df127357be5b",
   "metadata": {},
   "source": [
    "#### By using render_template(), we can create dynamic and interactive web pages in Flask efficiently and cleanly."
   ]
  },
  {
   "cell_type": "code",
   "execution_count": null,
   "id": "58192122-07a3-4691-9fec-56689f6cb16b",
   "metadata": {},
   "outputs": [],
   "source": []
  },
  {
   "cell_type": "markdown",
   "id": "5d041b78-bef8-4a56-803a-79327f0083fd",
   "metadata": {},
   "source": [
    "## Q5. Create a simple API. Use Postman to test it. Attach the screenshot of the output in the Jupyter Notebook."
   ]
  },
  {
   "cell_type": "code",
   "execution_count": null,
   "id": "1b35f889-4794-44bf-a326-a6ac16fe5891",
   "metadata": {},
   "outputs": [],
   "source": [
    "from flask import Flask, jsonify\n",
    "\n",
    "app = Flask(__name__)\n",
    "\n",
    "@app.route('/hello')\n",
    "def hello_world():\n",
    "    return jsonify({'message': 'Hello from Flask!'})\n",
    "\n",
    "if __name__ == '__main__':\n",
    "    app.run(debug=True)\n",
    "\n",
    "\n",
    "## URL to Check : http://127.0.0.1:5000/hello"
   ]
  },
  {
   "cell_type": "code",
   "execution_count": 36,
   "id": "80592839-4348-435e-aabe-1cd292d8c638",
   "metadata": {},
   "outputs": [
    {
     "name": "stderr",
     "output_type": "stream",
     "text": [
      "Matplotlib is building the font cache; this may take a moment.\n"
     ]
    },
    {
     "data": {
      "image/png": "[encoded data removed]",
      "text/plain": [
       "<Figure size 640x480 with 1 Axes>"
      ]
     },
     "metadata": {},
     "output_type": "display_data"
    }
   ],
   "source": [
    "import requests\n",
    "import matplotlib.pyplot as plt\n",
    "from PIL import Image\n",
    "\n",
    "# Make the API request\n",
    "response = requests.get('http://127.0.0.1:5000/hello')\n",
    "\n",
    "# Save the response body as a text file\n",
    "with open('api_response.txt', 'w') as f:\n",
    "    f.write(response.text)\n",
    "\n",
    "# Create a screenshot of the Postman response (assuming you have a screenshot saved as 'postman_response.png')\n",
    "img = Image.open('postman_response.png')\n",
    "plt.imshow(img)\n",
    "plt.axis('off')\n",
    "plt.show()"
   ]
  },
  {
   "cell_type": "code",
   "execution_count": null,
   "id": "5423be43-4150-43ee-a425-dbaac6f69ff3",
   "metadata": {},
   "outputs": [],
   "source": []
  }
 ],
 "metadata": {
  "kernelspec": {
   "display_name": "Python 3 (ipykernel)",
   "language": "python",
   "name": "python3"
  },
  "language_info": {
   "codemirror_mode": {
    "name": "ipython",
    "version": 3
   },
   "file_extension": ".py",
   "mimetype": "text/x-python",
   "name": "python",
   "nbconvert_exporter": "python",
   "pygments_lexer": "ipython3",
   "version": "3.11.7"
  }
 },
 "nbformat": 4,
 "nbformat_minor": 5
}
